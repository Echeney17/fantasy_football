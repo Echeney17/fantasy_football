{
  "nbformat": 4,
  "nbformat_minor": 0,
  "metadata": {
    "colab": {
      "name": "Untitled",
      "provenance": [],
      "collapsed_sections": []
    },
    "kernelspec": {
      "name": "python3",
      "display_name": "Python 3"
    },
    "language_info": {
      "name": "python"
    }
  },
  "cells": [
    {
      "cell_type": "code",
      "metadata": {
        "id": "E2wjpvYJAIUs",
        "colab": {
          "base_uri": "https://localhost:8080/"
        },
        "outputId": "c96723cf-ca15-47f4-df2e-264a8c7c57be"
      },
      "source": [
        "pip install optuna"
      ],
      "execution_count": 1,
      "outputs": [
        {
          "output_type": "stream",
          "text": [
            "Collecting optuna\n",
            "\u001b[?25l  Downloading https://files.pythonhosted.org/packages/2b/21/d13081805e1e1afc71f5bb743ece324c8bd576237c51b899ecb38a717502/optuna-2.7.0-py3-none-any.whl (293kB)\n",
            "\r\u001b[K     |█▏                              | 10kB 10.6MB/s eta 0:00:01\r\u001b[K     |██▎                             | 20kB 14.1MB/s eta 0:00:01\r\u001b[K     |███▍                            | 30kB 16.4MB/s eta 0:00:01\r\u001b[K     |████▌                           | 40kB 18.2MB/s eta 0:00:01\r\u001b[K     |█████▋                          | 51kB 15.8MB/s eta 0:00:01\r\u001b[K     |██████▊                         | 61kB 14.5MB/s eta 0:00:01\r\u001b[K     |███████▉                        | 71kB 13.4MB/s eta 0:00:01\r\u001b[K     |█████████                       | 81kB 12.3MB/s eta 0:00:01\r\u001b[K     |██████████                      | 92kB 12.3MB/s eta 0:00:01\r\u001b[K     |███████████▏                    | 102kB 11.7MB/s eta 0:00:01\r\u001b[K     |████████████▎                   | 112kB 11.7MB/s eta 0:00:01\r\u001b[K     |█████████████▍                  | 122kB 11.7MB/s eta 0:00:01\r\u001b[K     |██████████████▌                 | 133kB 11.7MB/s eta 0:00:01\r\u001b[K     |███████████████▋                | 143kB 11.7MB/s eta 0:00:01\r\u001b[K     |████████████████▊               | 153kB 11.7MB/s eta 0:00:01\r\u001b[K     |█████████████████▉              | 163kB 11.7MB/s eta 0:00:01\r\u001b[K     |███████████████████             | 174kB 11.7MB/s eta 0:00:01\r\u001b[K     |████████████████████            | 184kB 11.7MB/s eta 0:00:01\r\u001b[K     |█████████████████████▏          | 194kB 11.7MB/s eta 0:00:01\r\u001b[K     |██████████████████████▎         | 204kB 11.7MB/s eta 0:00:01\r\u001b[K     |███████████████████████▍        | 215kB 11.7MB/s eta 0:00:01\r\u001b[K     |████████████████████████▋       | 225kB 11.7MB/s eta 0:00:01\r\u001b[K     |█████████████████████████▊      | 235kB 11.7MB/s eta 0:00:01\r\u001b[K     |██████████████████████████▉     | 245kB 11.7MB/s eta 0:00:01\r\u001b[K     |████████████████████████████    | 256kB 11.7MB/s eta 0:00:01\r\u001b[K     |█████████████████████████████   | 266kB 11.7MB/s eta 0:00:01\r\u001b[K     |██████████████████████████████▏ | 276kB 11.7MB/s eta 0:00:01\r\u001b[K     |███████████████████████████████▎| 286kB 11.7MB/s eta 0:00:01\r\u001b[K     |████████████████████████████████| 296kB 11.7MB/s \n",
            "\u001b[?25hRequirement already satisfied: numpy in /usr/local/lib/python3.7/dist-packages (from optuna) (1.19.5)\n",
            "Collecting cmaes>=0.8.2\n",
            "  Downloading https://files.pythonhosted.org/packages/01/1f/43b01223a0366171f474320c6e966c39a11587287f098a5f09809b45e05f/cmaes-0.8.2-py3-none-any.whl\n",
            "Requirement already satisfied: scipy!=1.4.0 in /usr/local/lib/python3.7/dist-packages (from optuna) (1.4.1)\n",
            "Requirement already satisfied: sqlalchemy>=1.1.0 in /usr/local/lib/python3.7/dist-packages (from optuna) (1.4.7)\n",
            "Collecting colorlog\n",
            "  Downloading https://files.pythonhosted.org/packages/32/e6/e9ddc6fa1104fda718338b341e4b3dc31cd8039ab29e52fc73b508515361/colorlog-5.0.1-py2.py3-none-any.whl\n",
            "Requirement already satisfied: tqdm in /usr/local/lib/python3.7/dist-packages (from optuna) (4.41.1)\n",
            "Collecting cliff\n",
            "\u001b[?25l  Downloading https://files.pythonhosted.org/packages/a2/d6/7d9acb68a77acd140be7fececb7f2701b2a29d2da9c54184cb8f93509590/cliff-3.7.0-py3-none-any.whl (80kB)\n",
            "\u001b[K     |████████████████████████████████| 81kB 9.0MB/s \n",
            "\u001b[?25hCollecting alembic\n",
            "\u001b[?25l  Downloading https://files.pythonhosted.org/packages/72/a4/97eb6273839655cac14947986fa7a5935350fcfd4fff872e9654264c82d8/alembic-1.5.8-py2.py3-none-any.whl (159kB)\n",
            "\u001b[K     |████████████████████████████████| 163kB 43.0MB/s \n",
            "\u001b[?25hRequirement already satisfied: packaging>=20.0 in /usr/local/lib/python3.7/dist-packages (from optuna) (20.9)\n",
            "Requirement already satisfied: greenlet!=0.4.17; python_version >= \"3\" in /usr/local/lib/python3.7/dist-packages (from sqlalchemy>=1.1.0->optuna) (1.0.0)\n",
            "Requirement already satisfied: importlib-metadata; python_version < \"3.8\" in /usr/local/lib/python3.7/dist-packages (from sqlalchemy>=1.1.0->optuna) (3.10.1)\n",
            "Collecting stevedore>=2.0.1\n",
            "\u001b[?25l  Downloading https://files.pythonhosted.org/packages/d4/49/b602307aeac3df3384ff1fcd05da9c0376c622a6c48bb5325f28ab165b57/stevedore-3.3.0-py3-none-any.whl (49kB)\n",
            "\u001b[K     |████████████████████████████████| 51kB 5.9MB/s \n",
            "\u001b[?25hRequirement already satisfied: PyYAML>=3.12 in /usr/local/lib/python3.7/dist-packages (from cliff->optuna) (3.13)\n",
            "Collecting cmd2>=1.0.0\n",
            "\u001b[?25l  Downloading https://files.pythonhosted.org/packages/15/8b/15061b32332bb35ea2a2f6263d0f616779d576e82739ec8e7fcf3c94abf5/cmd2-1.5.0-py3-none-any.whl (133kB)\n",
            "\u001b[K     |████████████████████████████████| 143kB 39.0MB/s \n",
            "\u001b[?25hCollecting pbr!=2.1.0,>=2.0.0\n",
            "\u001b[?25l  Downloading https://files.pythonhosted.org/packages/fb/48/69046506f6ac61c1eaa9a0d42d22d54673b69e176d30ca98e3f61513e980/pbr-5.5.1-py2.py3-none-any.whl (106kB)\n",
            "\u001b[K     |████████████████████████████████| 112kB 44.7MB/s \n",
            "\u001b[?25hRequirement already satisfied: PrettyTable>=0.7.2 in /usr/local/lib/python3.7/dist-packages (from cliff->optuna) (2.1.0)\n",
            "Requirement already satisfied: pyparsing>=2.1.0 in /usr/local/lib/python3.7/dist-packages (from cliff->optuna) (2.4.7)\n",
            "Collecting Mako\n",
            "\u001b[?25l  Downloading https://files.pythonhosted.org/packages/f3/54/dbc07fbb20865d3b78fdb7cf7fa713e2cba4f87f71100074ef2dc9f9d1f7/Mako-1.1.4-py2.py3-none-any.whl (75kB)\n",
            "\u001b[K     |████████████████████████████████| 81kB 7.9MB/s \n",
            "\u001b[?25hRequirement already satisfied: python-dateutil in /usr/local/lib/python3.7/dist-packages (from alembic->optuna) (2.8.1)\n",
            "Collecting python-editor>=0.3\n",
            "  Downloading https://files.pythonhosted.org/packages/c6/d3/201fc3abe391bbae6606e6f1d598c15d367033332bd54352b12f35513717/python_editor-1.0.4-py3-none-any.whl\n",
            "Requirement already satisfied: zipp>=0.5 in /usr/local/lib/python3.7/dist-packages (from importlib-metadata; python_version < \"3.8\"->sqlalchemy>=1.1.0->optuna) (3.4.1)\n",
            "Requirement already satisfied: typing-extensions>=3.6.4; python_version < \"3.8\" in /usr/local/lib/python3.7/dist-packages (from importlib-metadata; python_version < \"3.8\"->sqlalchemy>=1.1.0->optuna) (3.7.4.3)\n",
            "Collecting pyperclip>=1.6\n",
            "  Downloading https://files.pythonhosted.org/packages/a7/2c/4c64579f847bd5d539803c8b909e54ba087a79d01bb3aba433a95879a6c5/pyperclip-1.8.2.tar.gz\n",
            "Requirement already satisfied: wcwidth>=0.1.7 in /usr/local/lib/python3.7/dist-packages (from cmd2>=1.0.0->cliff->optuna) (0.2.5)\n",
            "Collecting colorama>=0.3.7\n",
            "  Downloading https://files.pythonhosted.org/packages/44/98/5b86278fbbf250d239ae0ecb724f8572af1c91f4a11edf4d36a206189440/colorama-0.4.4-py2.py3-none-any.whl\n",
            "Requirement already satisfied: attrs>=16.3.0 in /usr/local/lib/python3.7/dist-packages (from cmd2>=1.0.0->cliff->optuna) (20.3.0)\n",
            "Requirement already satisfied: MarkupSafe>=0.9.2 in /usr/local/lib/python3.7/dist-packages (from Mako->alembic->optuna) (1.1.1)\n",
            "Requirement already satisfied: six>=1.5 in /usr/local/lib/python3.7/dist-packages (from python-dateutil->alembic->optuna) (1.15.0)\n",
            "Building wheels for collected packages: pyperclip\n",
            "  Building wheel for pyperclip (setup.py) ... \u001b[?25l\u001b[?25hdone\n",
            "  Created wheel for pyperclip: filename=pyperclip-1.8.2-cp37-none-any.whl size=11107 sha256=7cf56c770e470d410e3dd40c93fb3901c78301acb53ac120e5d194ac2c1cffbb\n",
            "  Stored in directory: /root/.cache/pip/wheels/25/af/b8/3407109267803f4015e1ee2ff23be0c8c19ce4008665931ee1\n",
            "Successfully built pyperclip\n",
            "Installing collected packages: cmaes, colorlog, pbr, stevedore, pyperclip, colorama, cmd2, cliff, Mako, python-editor, alembic, optuna\n",
            "Successfully installed Mako-1.1.4 alembic-1.5.8 cliff-3.7.0 cmaes-0.8.2 cmd2-1.5.0 colorama-0.4.4 colorlog-5.0.1 optuna-2.7.0 pbr-5.5.1 pyperclip-1.8.2 python-editor-1.0.4 stevedore-3.3.0\n"
          ],
          "name": "stdout"
        }
      ]
    },
    {
      "cell_type": "code",
      "metadata": {
        "id": "4xai_xSkAhvA"
      },
      "source": [
        "import pandas as pd\n",
        "import xgboost as xgb\n",
        "from xgboost import XGBRegressor, plot_tree, plot_importance\n",
        "import sklearn\n",
        "from sklearn.metrics import mean_squared_error, r2_score\n",
        "from sklearn.model_selection import train_test_split\n",
        "import matplotlib.pyplot as plt\n",
        "import graphviz\n",
        "import numpy as np\n",
        "import optuna\n",
        "import functools\n",
        "import math\n",
        "from google.colab import files\n",
        "import io\n",
        "import seaborn as sns\n",
        "import matplotlib.pyplot as plt\n",
        "%matplotlib inline"
      ],
      "execution_count": 2,
      "outputs": []
    },
    {
      "cell_type": "code",
      "metadata": {
        "id": "m-xYy4quAiac",
        "colab": {
          "resources": {
            "http://localhost:8080/nbextensions/google.colab/files.js": {
              "data": "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",
              "ok": true,
              "headers": [
                [
                  "content-type",
                  "application/javascript"
                ]
              ],
              "status": 200,
              "status_text": ""
            }
          },
          "base_uri": "https://localhost:8080/",
          "height": 72
        },
        "outputId": "42319174-6da0-4796-c076-7d8592b20e06"
      },
      "source": [
        "data_to_load = files.upload()"
      ],
      "execution_count": 3,
      "outputs": [
        {
          "output_type": "display_data",
          "data": {
            "text/html": [
              "\n",
              "     <input type=\"file\" id=\"files-2fb266cc-c574-4766-bbf4-fc0cb75ebd94\" name=\"files[]\" multiple disabled\n",
              "        style=\"border:none\" />\n",
              "     <output id=\"result-2fb266cc-c574-4766-bbf4-fc0cb75ebd94\">\n",
              "      Upload widget is only available when the cell has been executed in the\n",
              "      current browser session. Please rerun this cell to enable.\n",
              "      </output>\n",
              "      <script src=\"/nbextensions/google.colab/files.js\"></script> "
            ],
            "text/plain": [
              "<IPython.core.display.HTML object>"
            ]
          },
          "metadata": {
            "tags": []
          }
        },
        {
          "output_type": "stream",
          "text": [
            "Saving nfl_contest.csv to nfl_contest.csv\n"
          ],
          "name": "stdout"
        }
      ]
    },
    {
      "cell_type": "code",
      "metadata": {
        "id": "rrUW8IuJAieB",
        "colab": {
          "base_uri": "https://localhost:8080/",
          "height": 224
        },
        "outputId": "69853779-b8f9-476a-edad-015889dbc613"
      },
      "source": [
        "nfl = pd.read_csv('nfl_contest.csv')\n",
        "nfl.head()"
      ],
      "execution_count": 4,
      "outputs": [
        {
          "output_type": "execute_result",
          "data": {
            "text/html": [
              "<div>\n",
              "<style scoped>\n",
              "    .dataframe tbody tr th:only-of-type {\n",
              "        vertical-align: middle;\n",
              "    }\n",
              "\n",
              "    .dataframe tbody tr th {\n",
              "        vertical-align: top;\n",
              "    }\n",
              "\n",
              "    .dataframe thead th {\n",
              "        text-align: right;\n",
              "    }\n",
              "</style>\n",
              "<table border=\"1\" class=\"dataframe\">\n",
              "  <thead>\n",
              "    <tr style=\"text-align: right;\">\n",
              "      <th></th>\n",
              "      <th>Proj_Own</th>\n",
              "      <th>Spread</th>\n",
              "      <th>Total</th>\n",
              "      <th>L3_Air_Yards</th>\n",
              "      <th>L3_Targets</th>\n",
              "      <th>L3_Rush_Att</th>\n",
              "      <th>L3_Pass_Air_Yards</th>\n",
              "      <th>L3_Pass_Att</th>\n",
              "      <th>L3_CPOE</th>\n",
              "      <th>L3_WOPR</th>\n",
              "      <th>L3_Target_Share</th>\n",
              "      <th>L3_Air_Yards_Share</th>\n",
              "      <th>L3_Rush_Share</th>\n",
              "      <th>Own</th>\n",
              "    </tr>\n",
              "  </thead>\n",
              "  <tbody>\n",
              "    <tr>\n",
              "      <th>0</th>\n",
              "      <td>2.7</td>\n",
              "      <td>4.0</td>\n",
              "      <td>48.5</td>\n",
              "      <td>0.0</td>\n",
              "      <td>0.0</td>\n",
              "      <td>1.33</td>\n",
              "      <td>191.00</td>\n",
              "      <td>34.33</td>\n",
              "      <td>-3.00</td>\n",
              "      <td>0.0</td>\n",
              "      <td>0.0</td>\n",
              "      <td>0.0</td>\n",
              "      <td>7.6</td>\n",
              "      <td>0.00</td>\n",
              "    </tr>\n",
              "    <tr>\n",
              "      <th>1</th>\n",
              "      <td>4.3</td>\n",
              "      <td>7.5</td>\n",
              "      <td>47.0</td>\n",
              "      <td>0.0</td>\n",
              "      <td>0.0</td>\n",
              "      <td>1.67</td>\n",
              "      <td>202.00</td>\n",
              "      <td>34.33</td>\n",
              "      <td>-0.33</td>\n",
              "      <td>0.0</td>\n",
              "      <td>0.0</td>\n",
              "      <td>0.0</td>\n",
              "      <td>8.8</td>\n",
              "      <td>4.44</td>\n",
              "    </tr>\n",
              "    <tr>\n",
              "      <th>2</th>\n",
              "      <td>0.8</td>\n",
              "      <td>-6.0</td>\n",
              "      <td>42.5</td>\n",
              "      <td>0.0</td>\n",
              "      <td>0.0</td>\n",
              "      <td>2.00</td>\n",
              "      <td>231.00</td>\n",
              "      <td>35.67</td>\n",
              "      <td>3.00</td>\n",
              "      <td>0.0</td>\n",
              "      <td>0.0</td>\n",
              "      <td>0.0</td>\n",
              "      <td>7.4</td>\n",
              "      <td>0.00</td>\n",
              "    </tr>\n",
              "    <tr>\n",
              "      <th>3</th>\n",
              "      <td>0.9</td>\n",
              "      <td>7.5</td>\n",
              "      <td>42.5</td>\n",
              "      <td>0.0</td>\n",
              "      <td>0.0</td>\n",
              "      <td>2.00</td>\n",
              "      <td>280.33</td>\n",
              "      <td>38.00</td>\n",
              "      <td>1.00</td>\n",
              "      <td>0.0</td>\n",
              "      <td>0.0</td>\n",
              "      <td>0.0</td>\n",
              "      <td>8.4</td>\n",
              "      <td>0.00</td>\n",
              "    </tr>\n",
              "    <tr>\n",
              "      <th>4</th>\n",
              "      <td>5.3</td>\n",
              "      <td>-3.0</td>\n",
              "      <td>55.0</td>\n",
              "      <td>0.0</td>\n",
              "      <td>0.0</td>\n",
              "      <td>1.33</td>\n",
              "      <td>339.00</td>\n",
              "      <td>43.33</td>\n",
              "      <td>2.00</td>\n",
              "      <td>0.0</td>\n",
              "      <td>0.0</td>\n",
              "      <td>0.0</td>\n",
              "      <td>9.8</td>\n",
              "      <td>7.68</td>\n",
              "    </tr>\n",
              "  </tbody>\n",
              "</table>\n",
              "</div>"
            ],
            "text/plain": [
              "   Proj_Own  Spread  Total  ...  L3_Air_Yards_Share  L3_Rush_Share   Own\n",
              "0       2.7     4.0   48.5  ...                 0.0            7.6  0.00\n",
              "1       4.3     7.5   47.0  ...                 0.0            8.8  4.44\n",
              "2       0.8    -6.0   42.5  ...                 0.0            7.4  0.00\n",
              "3       0.9     7.5   42.5  ...                 0.0            8.4  0.00\n",
              "4       5.3    -3.0   55.0  ...                 0.0            9.8  7.68\n",
              "\n",
              "[5 rows x 14 columns]"
            ]
          },
          "metadata": {
            "tags": []
          },
          "execution_count": 4
        }
      ]
    },
    {
      "cell_type": "code",
      "metadata": {
        "id": "Dz4fKUpo1udQ"
      },
      "source": [
        "correlations=nfl.corr()"
      ],
      "execution_count": 5,
      "outputs": []
    },
    {
      "cell_type": "code",
      "metadata": {
        "id": "hjSJdWwBAih0",
        "colab": {
          "base_uri": "https://localhost:8080/",
          "height": 372
        },
        "outputId": "624f3545-ed26-47b9-bc36-2476667fa23a"
      },
      "source": [
        "sns.heatmap(correlations)"
      ],
      "execution_count": 6,
      "outputs": [
        {
          "output_type": "execute_result",
          "data": {
            "text/plain": [
              "<matplotlib.axes._subplots.AxesSubplot at 0x7f79f05abc10>"
            ]
          },
          "metadata": {
            "tags": []
          },
          "execution_count": 6
        },
        {
          "output_type": "display_data",
          "data": {
            "image/png": "[encoded data removed]",
            "text/plain": [
              "<Figure size 432x288 with 2 Axes>"
            ]
          },
          "metadata": {
            "tags": [],
            "needs_background": "light"
          }
        }
      ]
    },
    {
      "cell_type": "code",
      "metadata": {
        "id": "n2co6rRrAioQ",
        "colab": {
          "base_uri": "https://localhost:8080/",
          "height": 384
        },
        "outputId": "b3746f85-61a0-4d42-f71c-ddc1bdae3859"
      },
      "source": [
        "sns.boxplot(nfl['Total'])"
      ],
      "execution_count": 7,
      "outputs": [
        {
          "output_type": "stream",
          "text": [
            "/usr/local/lib/python3.7/dist-packages/seaborn/_decorators.py:43: FutureWarning:\n",
            "\n",
            "Pass the following variable as a keyword arg: x. From version 0.12, the only valid positional argument will be `data`, and passing other arguments without an explicit keyword will result in an error or misinterpretation.\n",
            "\n"
          ],
          "name": "stderr"
        },
        {
          "output_type": "execute_result",
          "data": {
            "text/plain": [
              "<matplotlib.axes._subplots.AxesSubplot at 0x7f79f05abc50>"
            ]
          },
          "metadata": {
            "tags": []
          },
          "execution_count": 7
        },
        {
          "output_type": "display_data",
          "data": {
            "image/png": "[encoded data removed]",
            "text/plain": [
              "<Figure size 432x288 with 1 Axes>"
            ]
          },
          "metadata": {
            "tags": [],
            "needs_background": "light"
          }
        }
      ]
    },
    {
      "cell_type": "code",
      "metadata": {
        "colab": {
          "base_uri": "https://localhost:8080/",
          "height": 384
        },
        "id": "Jm8No-ThnNjb",
        "outputId": "56620af8-9509-48e1-c8b3-900440de1d2f"
      },
      "source": [
        "sns.boxplot(nfl['Own'])"
      ],
      "execution_count": 8,
      "outputs": [
        {
          "output_type": "stream",
          "text": [
            "/usr/local/lib/python3.7/dist-packages/seaborn/_decorators.py:43: FutureWarning:\n",
            "\n",
            "Pass the following variable as a keyword arg: x. From version 0.12, the only valid positional argument will be `data`, and passing other arguments without an explicit keyword will result in an error or misinterpretation.\n",
            "\n"
          ],
          "name": "stderr"
        },
        {
          "output_type": "execute_result",
          "data": {
            "text/plain": [
              "<matplotlib.axes._subplots.AxesSubplot at 0x7f79e7fbac10>"
            ]
          },
          "metadata": {
            "tags": []
          },
          "execution_count": 8
        },
        {
          "output_type": "display_data",
          "data": {
            "image/png": "[encoded data removed]",
            "text/plain": [
              "<Figure size 432x288 with 1 Axes>"
            ]
          },
          "metadata": {
            "tags": [],
            "needs_background": "light"
          }
        }
      ]
    },
    {
      "cell_type": "code",
      "metadata": {
        "colab": {
          "base_uri": "https://localhost:8080/"
        },
        "id": "WAZdOHDbwHv0",
        "outputId": "981154b1-944e-47dd-dd4e-30ee4be77baa"
      },
      "source": [
        "from sklearn.preprocessing import StandardScaler\n",
        "scaler=StandardScaler()\n",
        "scaler.fit(nfl.drop('Own',axis=1))"
      ],
      "execution_count": 9,
      "outputs": [
        {
          "output_type": "execute_result",
          "data": {
            "text/plain": [
              "StandardScaler(copy=True, with_mean=True, with_std=True)"
            ]
          },
          "metadata": {
            "tags": []
          },
          "execution_count": 9
        }
      ]
    },
    {
      "cell_type": "code",
      "metadata": {
        "id": "HRfCCQTlJ3Cq"
      },
      "source": [
        "scaled_features=scaler.transform(nfl.drop('Own',axis=1))"
      ],
      "execution_count": 10,
      "outputs": []
    },
    {
      "cell_type": "code",
      "metadata": {
        "id": "caAXQ71PJ3T1"
      },
      "source": [
        "nfl_features=pd.DataFrame(scaled_features,columns=nfl.columns[:-1])"
      ],
      "execution_count": 11,
      "outputs": []
    },
    {
      "cell_type": "code",
      "metadata": {
        "colab": {
          "base_uri": "https://localhost:8080/",
          "height": 224
        },
        "id": "48RlM8-lJ3YJ",
        "outputId": "0093c658-4cae-4247-9521-bdd55ac717b3"
      },
      "source": [
        "nfl_features.head()"
      ],
      "execution_count": 12,
      "outputs": [
        {
          "output_type": "execute_result",
          "data": {
            "text/html": [
              "<div>\n",
              "<style scoped>\n",
              "    .dataframe tbody tr th:only-of-type {\n",
              "        vertical-align: middle;\n",
              "    }\n",
              "\n",
              "    .dataframe tbody tr th {\n",
              "        vertical-align: top;\n",
              "    }\n",
              "\n",
              "    .dataframe thead th {\n",
              "        text-align: right;\n",
              "    }\n",
              "</style>\n",
              "<table border=\"1\" class=\"dataframe\">\n",
              "  <thead>\n",
              "    <tr style=\"text-align: right;\">\n",
              "      <th></th>\n",
              "      <th>Proj_Own</th>\n",
              "      <th>Spread</th>\n",
              "      <th>Total</th>\n",
              "      <th>L3_Air_Yards</th>\n",
              "      <th>L3_Targets</th>\n",
              "      <th>L3_Rush_Att</th>\n",
              "      <th>L3_Pass_Air_Yards</th>\n",
              "      <th>L3_Pass_Att</th>\n",
              "      <th>L3_CPOE</th>\n",
              "      <th>L3_WOPR</th>\n",
              "      <th>L3_Target_Share</th>\n",
              "      <th>L3_Air_Yards_Share</th>\n",
              "      <th>L3_Rush_Share</th>\n",
              "    </tr>\n",
              "  </thead>\n",
              "  <tbody>\n",
              "    <tr>\n",
              "      <th>0</th>\n",
              "      <td>-0.358044</td>\n",
              "      <td>0.450992</td>\n",
              "      <td>0.056648</td>\n",
              "      <td>-0.898264</td>\n",
              "      <td>-1.349329</td>\n",
              "      <td>-0.330981</td>\n",
              "      <td>1.630111</td>\n",
              "      <td>2.321770</td>\n",
              "      <td>-0.491389</td>\n",
              "      <td>-1.262568</td>\n",
              "      <td>-1.420365</td>\n",
              "      <td>-0.906104</td>\n",
              "      <td>-0.235178</td>\n",
              "    </tr>\n",
              "    <tr>\n",
              "      <th>1</th>\n",
              "      <td>-0.081111</td>\n",
              "      <td>1.010327</td>\n",
              "      <td>-0.311652</td>\n",
              "      <td>-0.898264</td>\n",
              "      <td>-1.349329</td>\n",
              "      <td>-0.267471</td>\n",
              "      <td>1.746322</td>\n",
              "      <td>2.321770</td>\n",
              "      <td>-0.114582</td>\n",
              "      <td>-1.262568</td>\n",
              "      <td>-1.420365</td>\n",
              "      <td>-0.906104</td>\n",
              "      <td>-0.175211</td>\n",
              "    </tr>\n",
              "    <tr>\n",
              "      <th>2</th>\n",
              "      <td>-0.686903</td>\n",
              "      <td>-1.147107</td>\n",
              "      <td>-1.416551</td>\n",
              "      <td>-0.898264</td>\n",
              "      <td>-1.349329</td>\n",
              "      <td>-0.205829</td>\n",
              "      <td>2.052697</td>\n",
              "      <td>2.427713</td>\n",
              "      <td>0.355367</td>\n",
              "      <td>-1.262568</td>\n",
              "      <td>-1.420365</td>\n",
              "      <td>-0.906104</td>\n",
              "      <td>-0.245172</td>\n",
              "    </tr>\n",
              "    <tr>\n",
              "      <th>3</th>\n",
              "      <td>-0.669594</td>\n",
              "      <td>1.010327</td>\n",
              "      <td>-1.416551</td>\n",
              "      <td>-0.898264</td>\n",
              "      <td>-1.349329</td>\n",
              "      <td>-0.205829</td>\n",
              "      <td>2.573852</td>\n",
              "      <td>2.611928</td>\n",
              "      <td>0.073115</td>\n",
              "      <td>-1.262568</td>\n",
              "      <td>-1.420365</td>\n",
              "      <td>-0.906104</td>\n",
              "      <td>-0.195200</td>\n",
              "    </tr>\n",
              "    <tr>\n",
              "      <th>4</th>\n",
              "      <td>0.091973</td>\n",
              "      <td>-0.667677</td>\n",
              "      <td>1.652614</td>\n",
              "      <td>-0.898264</td>\n",
              "      <td>-1.349329</td>\n",
              "      <td>-0.330981</td>\n",
              "      <td>3.193682</td>\n",
              "      <td>3.033329</td>\n",
              "      <td>0.214241</td>\n",
              "      <td>-1.262568</td>\n",
              "      <td>-1.420365</td>\n",
              "      <td>-0.906104</td>\n",
              "      <td>-0.125238</td>\n",
              "    </tr>\n",
              "  </tbody>\n",
              "</table>\n",
              "</div>"
            ],
            "text/plain": [
              "   Proj_Own    Spread  ...  L3_Air_Yards_Share  L3_Rush_Share\n",
              "0 -0.358044  0.450992  ...           -0.906104      -0.235178\n",
              "1 -0.081111  1.010327  ...           -0.906104      -0.175211\n",
              "2 -0.686903 -1.147107  ...           -0.906104      -0.245172\n",
              "3 -0.669594  1.010327  ...           -0.906104      -0.195200\n",
              "4  0.091973 -0.667677  ...           -0.906104      -0.125238\n",
              "\n",
              "[5 rows x 13 columns]"
            ]
          },
          "metadata": {
            "tags": []
          },
          "execution_count": 12
        }
      ]
    },
    {
      "cell_type": "code",
      "metadata": {
        "id": "wsplwJIWJ3d1"
      },
      "source": [
        "from sklearn.model_selection import train_test_split\n"
      ],
      "execution_count": 13,
      "outputs": []
    },
    {
      "cell_type": "code",
      "metadata": {
        "id": "dYSgE0XPJ3ix"
      },
      "source": [
        "x=nfl_features\n",
        "y=nfl['Own']\n",
        "x_train, x_test, y_train, y_test = train_test_split(x, y, test_size=0.30, random_state=101)"
      ],
      "execution_count": 15,
      "outputs": []
    },
    {
      "cell_type": "code",
      "metadata": {
        "id": "a1LBYYLXJ3n5"
      },
      "source": [
        "from sklearn.neighbors import KNeighborsRegressor\n"
      ],
      "execution_count": 16,
      "outputs": []
    },
    {
      "cell_type": "code",
      "metadata": {
        "id": "V4vcwkg1J3wc"
      },
      "source": [
        "knn=KNeighborsRegressor(n_neighbors=11)\n",
        "knn.fit(x_train,y_train)\n",
        "predict=knn.predict(x_test)"
      ],
      "execution_count": 17,
      "outputs": []
    },
    {
      "cell_type": "code",
      "metadata": {
        "colab": {
          "base_uri": "https://localhost:8080/"
        },
        "id": "opDD8a5ZJ33n",
        "outputId": "20e7fa9f-e97d-4135-926e-9896b4d58c4a"
      },
      "source": [
        "predict"
      ],
      "execution_count": 18,
      "outputs": [
        {
          "output_type": "execute_result",
          "data": {
            "text/plain": [
              "array([ 1.30272727,  4.14545455,  7.47181818,  0.20181818,  0.40363636,\n",
              "        0.20181818,  4.05272727,  3.52545455,  1.84818182,  9.11454545,\n",
              "        1.03909091,  3.27272727,  1.06909091,  7.38636364,  2.71090909,\n",
              "        2.12454545,  3.82090909,  3.23272727,  4.90636364,  0.60545455,\n",
              "        1.41272727,  3.12181818,  0.80727273,  1.03909091,  2.91454545,\n",
              "        0.20181818,  0.40363636,  0.64909091,  9.10363636,  0.        ,\n",
              "        7.29272727,  0.        ,  0.41818182,  0.82181818,  0.        ,\n",
              "        0.        ,  0.20181818,  4.32727273,  0.40363636, 12.68727273,\n",
              "       11.65090909,  9.78      , 10.54545455,  6.00909091,  6.88636364,\n",
              "       40.35727273,  0.        ,  1.63      ,  2.04727273,  2.55363636,\n",
              "       16.12727273,  3.96090909,  1.21181818,  2.69727273,  2.26545455,\n",
              "        1.00909091,  1.81727273,  2.26454545, 17.35636364,  0.        ,\n",
              "        0.80818182,  0.        ,  0.        ,  0.66727273,  1.41363636,\n",
              "        5.44909091, 27.87454545,  0.20181818,  0.21636364,  4.09545455,\n",
              "        0.20181818,  1.88      , 37.00363636,  4.60636364,  0.82181818,\n",
              "        0.20181818,  8.89727273,  0.80727273,  0.80727273,  4.12454545,\n",
              "        1.81727273,  4.05272727,  2.25      ,  0.        ,  1.02454545,\n",
              "        1.00909091, 14.01909091, 22.28909091,  4.06727273,  0.60545455,\n",
              "       10.57363636,  2.52818182,  0.40363636, 26.76545455,  0.20181818,\n",
              "        1.84727273,  1.67272727,  1.01      ,  1.45727273,  4.30818182,\n",
              "       21.64181818,  0.46545455,  1.41454545, 20.36545455,  4.67454545,\n",
              "        1.00909091, 10.52272727,  0.40363636,  0.        ,  0.80727273,\n",
              "        1.47090909, 19.43454545,  4.76636364,  0.40363636,  1.47090909,\n",
              "        1.27272727,  2.11272727,  0.83818182,  0.60545455,  1.47545455,\n",
              "        3.02818182, 22.37272727,  2.62454545, 11.38909091,  0.40454545,\n",
              "        1.02363636,  1.61636364,  4.03545455,  4.11      ,  3.4       ,\n",
              "        1.90727273,  6.31636364,  0.20181818,  1.22545455,  2.05      ,\n",
              "        0.        ,  0.20181818,  0.41818182,  3.37454545,  1.04      ,\n",
              "        0.60636364,  4.16363636,  1.01      ,  0.40363636,  6.05818182,\n",
              "        2.28      ,  0.85272727,  0.        ,  5.20909091, 21.82727273,\n",
              "        0.60545455,  0.41818182,  2.89909091,  2.25090909,  0.20181818,\n",
              "        0.40363636,  1.61545455,  1.61545455,  1.67272727,  0.20181818,\n",
              "        1.45727273, 19.14727273, 33.56818182,  2.66818182,  1.63      ,\n",
              "       22.08909091,  0.20181818,  5.94909091,  0.60636364,  3.25818182,\n",
              "        1.41454545, 25.46454545,  7.95      ,  0.        ,  0.        ,\n",
              "        0.20181818,  8.84090909,  2.22090909, 12.28636364,  4.87727273,\n",
              "        1.44363636,  2.84181818,  0.60545455,  8.75272727,  4.64545455,\n",
              "        5.38      , 11.20909091,  1.10272727,  0.82181818,  9.41181818,\n",
              "        2.06272727,  0.80818182,  2.23454545,  5.11      ,  0.        ,\n",
              "        4.50272727,  2.40636364, 21.08454545, 14.64545455,  0.86909091,\n",
              "       13.18727273,  0.40363636,  9.99545455,  1.70363636,  2.68545455,\n",
              "        2.04727273,  4.77454545,  0.        ,  2.27909091,  1.22545455,\n",
              "       11.94      ,  0.60545455,  1.81818182, 12.52454545,  0.60545455,\n",
              "        0.20181818,  2.42272727,  0.        ,  3.23      ,  0.46545455,\n",
              "       11.68909091,  2.22090909,  1.00909091,  4.94636364,  0.82181818,\n",
              "        0.20181818,  9.90909091,  1.24      , 11.71363636,  0.20181818,\n",
              "        0.20181818,  0.80727273,  6.37727273,  0.64909091,  1.84727273,\n",
              "        5.10272727,  0.40454545,  1.24      ,  0.20181818,  9.85818182,\n",
              "        8.33454545,  0.        ,  2.62363636,  0.82181818, 13.25363636,\n",
              "        0.83727273,  0.43454545,  0.        , 15.03545455,  1.70545455,\n",
              "        8.6       ,  0.        ,  2.45363636,  1.01      ,  0.41818182,\n",
              "       10.69363636,  0.83727273,  2.27909091,  0.60545455,  0.40454545,\n",
              "       12.72363636,  0.20181818,  6.57727273, 20.87909091,  0.20181818,\n",
              "        0.        ,  0.83818182, 16.02909091,  1.81727273,  1.10090909,\n",
              "        1.41454545,  0.83818182,  6.85090909, 12.63454545,  1.83181818,\n",
              "        1.00909091,  0.60545455,  1.01      ,  3.88      ,  1.84636364,\n",
              "       16.58      ,  0.46545455,  2.73272727,  2.85727273,  8.66818182,\n",
              "       26.77090909,  3.43272727,  0.20181818,  1.84636364,  1.61545455,\n",
              "        0.        , 17.42272727,  7.04545455,  0.60545455,  2.91363636,\n",
              "        3.37181818, 46.24363636,  0.20181818,  0.66727273,  1.01      ,\n",
              "        3.11545455,  0.        ,  0.20181818,  0.20181818,  2.12454545,\n",
              "        2.46727273,  1.61545455,  2.58272727,  0.80818182,  0.60545455,\n",
              "        0.60636364,  7.58818182,  0.62      ,  0.60636364,  2.74363636,\n",
              "        0.        ,  8.13545455,  3.44727273,  3.37090909,  0.        ,\n",
              "        1.25454545,  0.        ,  3.43272727,  2.25      ,  6.86636364,\n",
              "       12.19636364,  2.82636364,  0.80818182,  1.70545455, 10.39181818,\n",
              "        0.80818182,  0.21636364, 12.25818182,  2.11181818,  1.01      ,\n",
              "       23.94      , 11.48181818, 19.52909091,  2.52363636,  3.69454545,\n",
              "        0.40363636,  0.80818182,  1.70727273,  2.28272727,  0.62      ,\n",
              "        8.39818182,  0.60545455,  0.80818182,  2.33636364,  7.06818182,\n",
              "        0.20181818,  3.24545455,  1.24181818,  2.09636364,  8.67545455,\n",
              "        0.41818182, 10.09363636,  0.        ,  7.06818182,  0.        ,\n",
              "        7.27090909,  0.        ,  4.86      ,  0.        ,  1.26909091,\n",
              "        0.65090909,  2.48090909,  0.        ,  4.64363636,  7.38818182,\n",
              "        7.51363636,  1.30454545,  1.87454545,  1.22545455,  4.71727273,\n",
              "        1.24090909, 18.57909091,  0.20181818,  4.90727273,  1.24090909,\n",
              "        0.60545455,  8.33363636,  2.01909091,  2.66909091,  0.60545455,\n",
              "        2.42454545,  0.82181818,  2.88636364,  1.21181818,  1.21181818,\n",
              "        2.26454545, 22.56090909,  1.27      ,  0.63454545,  0.80727273,\n",
              "       17.06181818,  0.20181818,  2.76545455,  0.20181818, 13.58818182,\n",
              "        0.        ,  1.00909091,  0.83909091,  2.72545455,  2.28      ,\n",
              "        0.23272727,  2.53818182,  1.41363636,  0.        ,  0.20181818,\n",
              "        7.22454545,  0.20181818,  1.61636364,  0.60545455,  1.84636364,\n",
              "        0.        ,  7.31363636, 12.53818182,  5.65454545, 20.73909091,\n",
              "        1.73636364,  2.45454545,  5.04818182,  4.45636364,  0.20181818,\n",
              "        7.28818182, 14.33909091,  0.40363636,  8.64272727,  1.22636364,\n",
              "       22.3       ,  0.        ,  0.40454545,  1.70636364,  2.49454545,\n",
              "        0.        ,  9.08      ,  0.80727273,  3.95090909,  0.        ,\n",
              "       13.61636364,  0.40454545,  9.25      , 11.21181818,  2.28181818,\n",
              "        0.        ,  8.71909091, 11.98454545,  0.40363636,  0.85272727,\n",
              "        3.23      ,  2.71818182,  0.20181818,  4.23636364,  2.12545455,\n",
              "       13.32727273,  1.61545455,  0.        ,  0.        , 27.87181818,\n",
              "        3.08636364, 13.85545455,  0.20181818,  6.96909091,  0.20181818,\n",
              "        7.29727273,  8.73727273,  2.04909091,  0.        ,  3.15818182,\n",
              "        0.        ,  0.40363636, 25.35363636,  0.80818182,  2.49545455,\n",
              "        1.41272727,  6.56363636,  4.27      ,  2.69818182,  0.20181818,\n",
              "       14.68545455, 16.34454545,  0.40363636,  0.64909091,  4.90636364,\n",
              "        3.15818182,  1.44181818,  1.00909091,  7.45727273,  4.86636364,\n",
              "        0.20181818, 10.99      ,  0.20181818,  4.20272727,  3.14818182,\n",
              "        3.35545455,  2.08      ,  2.43727273,  0.20181818,  0.        ,\n",
              "        0.20181818, 16.09      ,  4.40909091,  3.10545455,  6.80727273,\n",
              "        3.12      ,  1.01      ,  5.65363636,  1.44454545,  1.64363636,\n",
              "        5.46818182,  0.20181818,  1.00909091,  0.83727273,  1.00909091,\n",
              "       11.19818182,  0.80818182,  1.03818182, 36.9       ,  1.21181818,\n",
              "        2.22090909,  0.60545455,  3.43363636,  2.73272727,  9.52090909,\n",
              "        0.80727273, 10.99      ,  3.07181818,  0.86545455,  0.60545455,\n",
              "        0.83818182, 17.75454545,  1.24      ,  0.23272727,  7.87636364,\n",
              "       29.97181818, 10.60272727,  0.20181818,  1.04      , 32.39272727,\n",
              "        2.01909091, 13.57909091,  6.31727273,  0.20181818, 16.75727273,\n",
              "        0.        ,  1.28818182, 12.77363636,  0.80818182,  1.04      ,\n",
              "        0.82181818,  0.        , 25.09181818,  1.87818182,  0.80727273,\n",
              "        8.49090909,  1.01      ,  1.01      ,  5.49      ,  0.89818182,\n",
              "        0.        , 11.61      ,  2.45181818,  0.        ,  5.10818182,\n",
              "        4.39181818,  1.10181818,  0.        ,  5.51454545,  1.02363636,\n",
              "        1.83181818,  2.42272727,  0.        ,  0.80727273,  3.31818182,\n",
              "        0.        , 12.50454545,  0.60545455,  0.80727273,  0.20181818,\n",
              "        9.52181818,  1.50090909,  3.84909091,  9.50818182,  3.22727273,\n",
              "        1.27090909,  1.63090909, 42.76727273,  3.84181818,  1.00909091,\n",
              "        6.38363636,  2.62545455,  2.74727273,  0.64909091,  0.20181818,\n",
              "       12.20363636,  0.40363636,  0.60545455,  1.25454545,  1.83181818,\n",
              "        9.24545455,  0.        , 17.01636364,  0.41818182,  0.21636364,\n",
              "        0.80818182,  2.73272727,  2.76545455,  4.29727273,  4.05272727,\n",
              "        9.61545455,  4.30090909, 25.13272727,  0.        ,  0.        ,\n",
              "        1.22545455,  3.50454545,  0.41818182,  0.        ,  4.25363636,\n",
              "        0.20181818,  0.83636364,  2.46636364,  0.64909091,  2.24909091,\n",
              "        0.20181818,  0.90818182,  2.78454545, 14.36      ,  3.77909091,\n",
              "        3.13      ,  9.44818182,  0.60545455,  2.35181818])"
            ]
          },
          "metadata": {
            "tags": []
          },
          "execution_count": 18
        }
      ]
    },
    {
      "cell_type": "code",
      "metadata": {
        "id": "symZQbiPJ37m"
      },
      "source": [
        "error_rate=[]\n",
        "for i in range(1,40):\n",
        "    knn=KNeighborsRegressor(n_neighbors=i)\n",
        "    knn.fit(x_train,y_train)\n",
        "    predict_i=knn.predict(x_test)  \n",
        "    error_rate.append(np.mean(predict_i!=y_test))"
      ],
      "execution_count": 21,
      "outputs": []
    },
    {
      "cell_type": "code",
      "metadata": {
        "colab": {
          "base_uri": "https://localhost:8080/"
        },
        "id": "NgerDcg8J3_s",
        "outputId": "c89cda32-29b7-4e82-c432-395a47c4b47c"
      },
      "source": [
        "error_rate"
      ],
      "execution_count": 22,
      "outputs": [
        {
          "output_type": "execute_result",
          "data": {
            "text/plain": [
              "[0.5646687697160884,\n",
              " 0.6766561514195584,\n",
              " 0.7350157728706624,\n",
              " 0.777602523659306,\n",
              " 0.8123028391167192,\n",
              " 0.8296529968454258,\n",
              " 0.8596214511041009,\n",
              " 0.8817034700315457,\n",
              " 0.8958990536277602,\n",
              " 0.917981072555205,\n",
              " 0.9242902208201893,\n",
              " 0.9353312302839116,\n",
              " 0.944794952681388,\n",
              " 0.9526813880126183,\n",
              " 0.9558359621451105,\n",
              " 0.9558359621451105,\n",
              " 0.9637223974763407,\n",
              " 0.9700315457413249,\n",
              " 0.9763406940063092,\n",
              " 0.9794952681388013,\n",
              " 0.9794952681388013,\n",
              " 0.9794952681388013,\n",
              " 0.9810725552050473,\n",
              " 0.9826498422712934,\n",
              " 0.9842271293375394,\n",
              " 0.9842271293375394,\n",
              " 0.9842271293375394,\n",
              " 0.9858044164037855,\n",
              " 0.9873817034700315,\n",
              " 0.9889589905362776,\n",
              " 0.9889589905362776,\n",
              " 0.9936908517350158,\n",
              " 0.9936908517350158,\n",
              " 0.9952681388012619,\n",
              " 0.9952681388012619,\n",
              " 0.9968454258675079,\n",
              " 0.998422712933754,\n",
              " 0.998422712933754,\n",
              " 1.0]"
            ]
          },
          "metadata": {
            "tags": []
          },
          "execution_count": 22
        }
      ]
    },
    {
      "cell_type": "code",
      "metadata": {
        "colab": {
          "base_uri": "https://localhost:8080/",
          "height": 421
        },
        "id": "NYeJXkviJ4E5",
        "outputId": "1d0b07ff-7bd2-4e6e-cf42-83cb1d15ad2c"
      },
      "source": [
        "plt.figure(figsize=(10,6))\n",
        "plt.plot(range(1,40),error_rate, color='blue',linestyle='dashed',marker='o',markersize=10,markerfacecolor='red')\n",
        "plt.title('Error rate vs KNN values')\n",
        "plt.xlabel('K')\n",
        "plt.ylabel('Error rate')"
      ],
      "execution_count": 23,
      "outputs": [
        {
          "output_type": "execute_result",
          "data": {
            "text/plain": [
              "Text(0, 0.5, 'Error rate')"
            ]
          },
          "metadata": {
            "tags": []
          },
          "execution_count": 23
        },
        {
          "output_type": "display_data",
          "data": {
            "image/png": "[encoded data removed]",
            "text/plain": [
              "<Figure size 720x432 with 1 Axes>"
            ]
          },
          "metadata": {
            "tags": [],
            "needs_background": "light"
          }
        }
      ]
    },
    {
      "cell_type": "code",
      "metadata": {
        "id": "DubwufdQJ4Ls"
      },
      "source": [
        ""
      ],
      "execution_count": null,
      "outputs": []
    },
    {
      "cell_type": "code",
      "metadata": {
        "id": "2rOBvX84J4SM"
      },
      "source": [
        ""
      ],
      "execution_count": null,
      "outputs": []
    },
    {
      "cell_type": "code",
      "metadata": {
        "id": "FxmfyUXyJ4Xe"
      },
      "source": [
        ""
      ],
      "execution_count": null,
      "outputs": []
    }
  ]
}